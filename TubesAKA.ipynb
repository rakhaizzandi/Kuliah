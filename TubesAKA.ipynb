{
  "nbformat": 4,
  "nbformat_minor": 0,
  "metadata": {
    "colab": {
      "provenance": [],
      "authorship_tag": "ABX9TyPT9hxrilM7BtfKaFP3iBaB",
      "include_colab_link": true
    },
    "kernelspec": {
      "name": "python3",
      "display_name": "Python 3"
    },
    "language_info": {
      "name": "python"
    }
  },
  "cells": [
    {
      "cell_type": "markdown",
      "metadata": {
        "id": "view-in-github",
        "colab_type": "text"
      },
      "source": [
        "<a href=\"https://colab.research.google.com/github/rakhaizzandi/Kuliah/blob/main/TubesAKA.ipynb\" target=\"_parent\"><img src=\"https://colab.research.google.com/assets/colab-badge.svg\" alt=\"Open In Colab\"/></a>"
      ]
    },
    {
      "cell_type": "markdown",
      "source": [
        "Import dan Baca Data (CSV)"
      ],
      "metadata": {
        "id": "OjgUnUJP4sFz"
      }
    },
    {
      "cell_type": "code",
      "execution_count": 1,
      "metadata": {
        "colab": {
          "base_uri": "https://localhost:8080/",
          "height": 162
        },
        "id": "4Jim15i7zkRj",
        "outputId": "243433b9-72a5-4d88-8dd3-803fccf4bb88"
      },
      "outputs": [
        {
          "output_type": "stream",
          "name": "stdout",
          "text": [
            "Ketik 'start' untuk memulai upload file CSV: start\n",
            "Upload file CSV Anda:\n"
          ]
        },
        {
          "output_type": "display_data",
          "data": {
            "text/plain": [
              "<IPython.core.display.HTML object>"
            ],
            "text/html": [
              "\n",
              "     <input type=\"file\" id=\"files-aa59f14a-de5e-45ad-9241-40a55f5d5383\" name=\"files[]\" multiple disabled\n",
              "        style=\"border:none\" />\n",
              "     <output id=\"result-aa59f14a-de5e-45ad-9241-40a55f5d5383\">\n",
              "      Upload widget is only available when the cell has been executed in the\n",
              "      current browser session. Please rerun this cell to enable.\n",
              "      </output>\n",
              "      <script>// Copyright 2017 Google LLC\n",
              "//\n",
              "// Licensed under the Apache License, Version 2.0 (the \"License\");\n",
              "// you may not use this file except in compliance with the License.\n",
              "// You may obtain a copy of the License at\n",
              "//\n",
              "//      http://www.apache.org/licenses/LICENSE-2.0\n",
              "//\n",
              "// Unless required by applicable law or agreed to in writing, software\n",
              "// distributed under the License is distributed on an \"AS IS\" BASIS,\n",
              "// WITHOUT WARRANTIES OR CONDITIONS OF ANY KIND, either express or implied.\n",
              "// See the License for the specific language governing permissions and\n",
              "// limitations under the License.\n",
              "\n",
              "/**\n",
              " * @fileoverview Helpers for google.colab Python module.\n",
              " */\n",
              "(function(scope) {\n",
              "function span(text, styleAttributes = {}) {\n",
              "  const element = document.createElement('span');\n",
              "  element.textContent = text;\n",
              "  for (const key of Object.keys(styleAttributes)) {\n",
              "    element.style[key] = styleAttributes[key];\n",
              "  }\n",
              "  return element;\n",
              "}\n",
              "\n",
              "// Max number of bytes which will be uploaded at a time.\n",
              "const MAX_PAYLOAD_SIZE = 100 * 1024;\n",
              "\n",
              "function _uploadFiles(inputId, outputId) {\n",
              "  const steps = uploadFilesStep(inputId, outputId);\n",
              "  const outputElement = document.getElementById(outputId);\n",
              "  // Cache steps on the outputElement to make it available for the next call\n",
              "  // to uploadFilesContinue from Python.\n",
              "  outputElement.steps = steps;\n",
              "\n",
              "  return _uploadFilesContinue(outputId);\n",
              "}\n",
              "\n",
              "// This is roughly an async generator (not supported in the browser yet),\n",
              "// where there are multiple asynchronous steps and the Python side is going\n",
              "// to poll for completion of each step.\n",
              "// This uses a Promise to block the python side on completion of each step,\n",
              "// then passes the result of the previous step as the input to the next step.\n",
              "function _uploadFilesContinue(outputId) {\n",
              "  const outputElement = document.getElementById(outputId);\n",
              "  const steps = outputElement.steps;\n",
              "\n",
              "  const next = steps.next(outputElement.lastPromiseValue);\n",
              "  return Promise.resolve(next.value.promise).then((value) => {\n",
              "    // Cache the last promise value to make it available to the next\n",
              "    // step of the generator.\n",
              "    outputElement.lastPromiseValue = value;\n",
              "    return next.value.response;\n",
              "  });\n",
              "}\n",
              "\n",
              "/**\n",
              " * Generator function which is called between each async step of the upload\n",
              " * process.\n",
              " * @param {string} inputId Element ID of the input file picker element.\n",
              " * @param {string} outputId Element ID of the output display.\n",
              " * @return {!Iterable<!Object>} Iterable of next steps.\n",
              " */\n",
              "function* uploadFilesStep(inputId, outputId) {\n",
              "  const inputElement = document.getElementById(inputId);\n",
              "  inputElement.disabled = false;\n",
              "\n",
              "  const outputElement = document.getElementById(outputId);\n",
              "  outputElement.innerHTML = '';\n",
              "\n",
              "  const pickedPromise = new Promise((resolve) => {\n",
              "    inputElement.addEventListener('change', (e) => {\n",
              "      resolve(e.target.files);\n",
              "    });\n",
              "  });\n",
              "\n",
              "  const cancel = document.createElement('button');\n",
              "  inputElement.parentElement.appendChild(cancel);\n",
              "  cancel.textContent = 'Cancel upload';\n",
              "  const cancelPromise = new Promise((resolve) => {\n",
              "    cancel.onclick = () => {\n",
              "      resolve(null);\n",
              "    };\n",
              "  });\n",
              "\n",
              "  // Wait for the user to pick the files.\n",
              "  const files = yield {\n",
              "    promise: Promise.race([pickedPromise, cancelPromise]),\n",
              "    response: {\n",
              "      action: 'starting',\n",
              "    }\n",
              "  };\n",
              "\n",
              "  cancel.remove();\n",
              "\n",
              "  // Disable the input element since further picks are not allowed.\n",
              "  inputElement.disabled = true;\n",
              "\n",
              "  if (!files) {\n",
              "    return {\n",
              "      response: {\n",
              "        action: 'complete',\n",
              "      }\n",
              "    };\n",
              "  }\n",
              "\n",
              "  for (const file of files) {\n",
              "    const li = document.createElement('li');\n",
              "    li.append(span(file.name, {fontWeight: 'bold'}));\n",
              "    li.append(span(\n",
              "        `(${file.type || 'n/a'}) - ${file.size} bytes, ` +\n",
              "        `last modified: ${\n",
              "            file.lastModifiedDate ? file.lastModifiedDate.toLocaleDateString() :\n",
              "                                    'n/a'} - `));\n",
              "    const percent = span('0% done');\n",
              "    li.appendChild(percent);\n",
              "\n",
              "    outputElement.appendChild(li);\n",
              "\n",
              "    const fileDataPromise = new Promise((resolve) => {\n",
              "      const reader = new FileReader();\n",
              "      reader.onload = (e) => {\n",
              "        resolve(e.target.result);\n",
              "      };\n",
              "      reader.readAsArrayBuffer(file);\n",
              "    });\n",
              "    // Wait for the data to be ready.\n",
              "    let fileData = yield {\n",
              "      promise: fileDataPromise,\n",
              "      response: {\n",
              "        action: 'continue',\n",
              "      }\n",
              "    };\n",
              "\n",
              "    // Use a chunked sending to avoid message size limits. See b/62115660.\n",
              "    let position = 0;\n",
              "    do {\n",
              "      const length = Math.min(fileData.byteLength - position, MAX_PAYLOAD_SIZE);\n",
              "      const chunk = new Uint8Array(fileData, position, length);\n",
              "      position += length;\n",
              "\n",
              "      const base64 = btoa(String.fromCharCode.apply(null, chunk));\n",
              "      yield {\n",
              "        response: {\n",
              "          action: 'append',\n",
              "          file: file.name,\n",
              "          data: base64,\n",
              "        },\n",
              "      };\n",
              "\n",
              "      let percentDone = fileData.byteLength === 0 ?\n",
              "          100 :\n",
              "          Math.round((position / fileData.byteLength) * 100);\n",
              "      percent.textContent = `${percentDone}% done`;\n",
              "\n",
              "    } while (position < fileData.byteLength);\n",
              "  }\n",
              "\n",
              "  // All done.\n",
              "  yield {\n",
              "    response: {\n",
              "      action: 'complete',\n",
              "    }\n",
              "  };\n",
              "}\n",
              "\n",
              "scope.google = scope.google || {};\n",
              "scope.google.colab = scope.google.colab || {};\n",
              "scope.google.colab._files = {\n",
              "  _uploadFiles,\n",
              "  _uploadFilesContinue,\n",
              "};\n",
              "})(self);\n",
              "</script> "
            ]
          },
          "metadata": {}
        },
        {
          "output_type": "stream",
          "name": "stdout",
          "text": [
            "Saving game_revenue_15.csv to game_revenue_15.csv\n",
            "File uploaded: game_revenue_15.csv\n",
            "[{'game': 'AFK Journey', 'revenue': 16500.0}, {'game': 'Arknights', 'revenue': 8600.0}, {'game': 'Beyond the World', 'revenue': 8250.0}, {'game': 'Blue Archive', 'revenue': 10300.0}, {'game': 'CookieRun Kingdom', 'revenue': 5000.0}, {'game': 'Dragon Ball Legends', 'revenue': 10400.0}, {'game': 'Dragon Ball Z Dokkan Battle', 'revenue': 8000.0}, {'game': 'Fate/Grand Order', 'revenue': 21200.0}, {'game': 'Gakuen Idolmaster', 'revenue': 10000.0}, {'game': 'Genshin Impact', 'revenue': 51800.0}, {'game': 'Goddess of Victory NIKKE', 'revenue': 8000.0}, {'game': 'Hatsune Miku Colorful Stage', 'revenue': 10100.0}, {'game': 'Honkai Star Rail', 'revenue': 43300.0}, {'game': 'Light and Night', 'revenue': 5500.0}, {'game': 'Love and Deepspace', 'revenue': 39300.0}]\n"
          ]
        }
      ],
      "source": [
        "from google.colab import files\n",
        "import pandas as pd\n",
        "import time\n",
        "\n",
        "# Fungsi untuk meminta unggah file hanya jika diperlukan\n",
        "def upload_csv():\n",
        "    print(\"Upload file CSV Anda:\")\n",
        "    uploaded = files.upload()\n",
        "    for file_name in uploaded.keys():\n",
        "        print(f\"File uploaded: {file_name}\")\n",
        "        return pd.read_csv(file_name)\n",
        "\n",
        "# Meminta input eksplisit untuk memulai\n",
        "start = input(\"Ketik 'start' untuk memulai upload file CSV: \")\n",
        "if start.lower() == 'start':\n",
        "    df = upload_csv()\n",
        "    game_revenue = df.to_dict(orient='records')\n",
        "    print(game_revenue)\n",
        "else:\n",
        "    print(\"Program dihentikan.\")\n"
      ]
    },
    {
      "cell_type": "markdown",
      "source": [
        "Fungsi Pengurutan"
      ],
      "metadata": {
        "id": "RM10yrbo44MC"
      }
    },
    {
      "cell_type": "code",
      "source": [
        "# Fungsi pengurutan iteratif\n",
        "def sort_iterative(data):\n",
        "    sorted_data = data[:]\n",
        "    for i in range(len(sorted_data)):\n",
        "        for j in range(i + 1, len(sorted_data)):\n",
        "            if sorted_data[i]['revenue'] < sorted_data[j]['revenue']:\n",
        "                sorted_data[i], sorted_data[j] = sorted_data[j], sorted_data[i]\n",
        "    return sorted_data\n",
        "\n",
        "# Fungsi pengurutan rekursif\n",
        "def sort_recursive(data):\n",
        "    if len(data) <= 1:\n",
        "        return data\n",
        "    pivot = data[0]\n",
        "    greater = [x for x in data[1:] if x['revenue'] >= pivot['revenue']]\n",
        "    lesser = [x for x in data[1:] if x['revenue'] < pivot['revenue']]\n",
        "    return sort_recursive(greater) + [pivot] + sort_recursive(lesser)\n"
      ],
      "metadata": {
        "id": "bDS1_o_B4ms7"
      },
      "execution_count": 2,
      "outputs": []
    },
    {
      "cell_type": "markdown",
      "source": [
        "Fungsi Utilitas"
      ],
      "metadata": {
        "id": "G5uS8lS448ms"
      }
    },
    {
      "cell_type": "code",
      "source": [
        "# Fungsi untuk mencetak tabel data\n",
        "def print_data_comparison(original, sorted_data, n):\n",
        "    table = PrettyTable()\n",
        "    table.title = f\"Comparison of Original and Sorted Data (n={n})\"\n",
        "    table.field_names = [\"Original (Unsorted)\", \"Sorted by Revenue\"]\n",
        "    for i in range(n):\n",
        "        original_entry = f\"{original[i]['game']} ({original[i]['revenue']})\"\n",
        "        sorted_entry = f\"{sorted_data[i]['game']} ({sorted_data[i]['revenue']})\"\n",
        "        table.add_row([original_entry, sorted_entry])\n",
        "    print(table)\n",
        "\n",
        "# Fungsi untuk mencetak tabel perbandingan waktu\n",
        "def print_comparison_table(n_values, recursive_times, iterative_times):\n",
        "    table = PrettyTable()\n",
        "    table.field_names = [\"n\", \"Recursive Time (s)\", \"Iterative Time (s)\"]\n",
        "    for n, r_time, i_time in zip(n_values, recursive_times, iterative_times):\n",
        "        table.add_row([n, r_time, i_time])\n",
        "    print(table)\n",
        "\n",
        "# Fungsi untuk memperbarui grafik\n",
        "def update_graph(n_values, recursive_times, iterative_times):\n",
        "    plt.figure(figsize=(8, 5))\n",
        "    plt.plot(n_values, recursive_times, label=\"Recursive\", marker='o', color=\"blue\")\n",
        "    plt.plot(n_values, iterative_times, label=\"Iterative\", marker='o', color=\"orange\")\n",
        "    plt.title(\"Performance Comparison: Recursive vs Iterative\")\n",
        "    plt.xlabel(\"Number of Data (n)\")\n",
        "    plt.ylabel(\"Execution Time (seconds)\")\n",
        "    plt.legend()\n",
        "    plt.grid()\n",
        "    plt.show()\n"
      ],
      "metadata": {
        "id": "zt3Q5iNN47ov"
      },
      "execution_count": 3,
      "outputs": []
    },
    {
      "cell_type": "markdown",
      "source": [
        "Program Utama"
      ],
      "metadata": {
        "id": "A3z13tcM47Vq"
      }
    },
    {
      "cell_type": "code",
      "source": [
        "n_values = []\n",
        "recursive_times = []\n",
        "iterative_times = []\n",
        "\n",
        "# Iterasi setiap 5 data\n",
        "for i in range(5, len(game_revenue) + 1, 5):\n",
        "    data_subset = game_revenue[:i]\n",
        "\n",
        "    # Ukur waktu eksekusi pengurutan iteratif\n",
        "    start_time = time.time()\n",
        "    sorted_iterative = sort_iterative(data_subset)\n",
        "    iterative_time = time.time() - start_time\n",
        "\n",
        "    # Ukur waktu eksekusi pengurutan rekursif\n",
        "    start_time = time.time()\n",
        "    sorted_recursive = sort_recursive(data_subset)\n",
        "    recursive_time = time.time() - start_time\n",
        "\n",
        "    # Simpan hasil untuk tabel dan grafik\n",
        "    n_values.append(len(data_subset))\n",
        "    recursive_times.append(recursive_time)\n",
        "    iterative_times.append(iterative_time)\n",
        "\n",
        "    # Cetak data sebelum dan sesudah diurutkan\n",
        "    print_data_comparison(data_subset, sorted_iterative, len(data_subset))\n",
        "\n",
        "# Cetak tabel hasil perbandingan waktu\n",
        "print_comparison_table(n_values, recursive_times, iterative_times)\n",
        "\n",
        "# Tampilkan grafik perbandingan waktu\n",
        "update_graph(n_values, recursive_times, iterative_times)\n"
      ],
      "metadata": {
        "colab": {
          "base_uri": "https://localhost:8080/",
          "height": 211
        },
        "id": "wFeEIQQv49Mg",
        "outputId": "69e34b49-ea36-4c16-c9e2-90a66a2e53e6"
      },
      "execution_count": 4,
      "outputs": [
        {
          "output_type": "error",
          "ename": "NameError",
          "evalue": "name 'time' is not defined",
          "traceback": [
            "\u001b[0;31m---------------------------------------------------------------------------\u001b[0m",
            "\u001b[0;31mNameError\u001b[0m                                 Traceback (most recent call last)",
            "\u001b[0;32m<ipython-input-4-e03c515e6061>\u001b[0m in \u001b[0;36m<cell line: 6>\u001b[0;34m()\u001b[0m\n\u001b[1;32m      8\u001b[0m \u001b[0;34m\u001b[0m\u001b[0m\n\u001b[1;32m      9\u001b[0m     \u001b[0;31m# Ukur waktu eksekusi pengurutan iteratif\u001b[0m\u001b[0;34m\u001b[0m\u001b[0;34m\u001b[0m\u001b[0m\n\u001b[0;32m---> 10\u001b[0;31m     \u001b[0mstart_time\u001b[0m \u001b[0;34m=\u001b[0m \u001b[0mtime\u001b[0m\u001b[0;34m.\u001b[0m\u001b[0mtime\u001b[0m\u001b[0;34m(\u001b[0m\u001b[0;34m)\u001b[0m\u001b[0;34m\u001b[0m\u001b[0;34m\u001b[0m\u001b[0m\n\u001b[0m\u001b[1;32m     11\u001b[0m     \u001b[0msorted_iterative\u001b[0m \u001b[0;34m=\u001b[0m \u001b[0msort_iterative\u001b[0m\u001b[0;34m(\u001b[0m\u001b[0mdata_subset\u001b[0m\u001b[0;34m)\u001b[0m\u001b[0;34m\u001b[0m\u001b[0;34m\u001b[0m\u001b[0m\n\u001b[1;32m     12\u001b[0m     \u001b[0miterative_time\u001b[0m \u001b[0;34m=\u001b[0m \u001b[0mtime\u001b[0m\u001b[0;34m.\u001b[0m\u001b[0mtime\u001b[0m\u001b[0;34m(\u001b[0m\u001b[0;34m)\u001b[0m \u001b[0;34m-\u001b[0m \u001b[0mstart_time\u001b[0m\u001b[0;34m\u001b[0m\u001b[0;34m\u001b[0m\u001b[0m\n",
            "\u001b[0;31mNameError\u001b[0m: name 'time' is not defined"
          ]
        }
      ]
    }
  ]
}